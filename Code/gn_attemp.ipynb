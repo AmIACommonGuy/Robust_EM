{
 "cells": [
  {
   "cell_type": "code",
   "execution_count": 1,
   "id": "eaea0b1c-45bd-47a2-a6e5-2fb3512fdd8d",
   "metadata": {
    "tags": []
   },
   "outputs": [],
   "source": [
    "import numpy as np\n",
    "import scipy"
   ]
  },
  {
   "cell_type": "markdown",
   "id": "190f0b74-9397-4bf2-a30e-f71195b0ab53",
   "metadata": {},
   "source": [
    "This is a numerical attempt to solve for the system of equations derived in the constrain_struct.pdf"
   ]
  },
  {
   "cell_type": "markdown",
   "id": "1ca28651-133f-4672-b07c-59155a7b6dba",
   "metadata": {},
   "source": [
    "## Using Newton-Gauss"
   ]
  },
  {
   "cell_type": "markdown",
   "id": "854c5881-631f-44b9-b425-f295e5c03e54",
   "metadata": {},
   "source": [
    "2 dimensional case:"
   ]
  },
  {
   "cell_type": "code",
   "execution_count": 27,
   "id": "bc96de8e-84e6-4032-bf93-90014f1e0841",
   "metadata": {},
   "outputs": [],
   "source": [
    "# Number of observations\n",
    "n = 100\n",
    "# Dimension\n",
    "d = 2"
   ]
  },
  {
   "cell_type": "code",
   "execution_count": 28,
   "id": "5dbcf14c-e202-4b83-a080-4a34eb0309fc",
   "metadata": {},
   "outputs": [],
   "source": [
    "## lambda\n",
    "lam = 1"
   ]
  },
  {
   "cell_type": "markdown",
   "id": "6f687abe-f606-46c8-9bf5-f651ec4038cb",
   "metadata": {},
   "source": [
    "Gamma is the sample covariance eigenvalue matrix $\\Lambda$, and $D$ is the eigenvalue matrix for M"
   ]
  },
  {
   "cell_type": "code",
   "execution_count": 29,
   "id": "4a2624ac-1596-49d4-98ce-ff98f2bd0613",
   "metadata": {},
   "outputs": [],
   "source": [
    "Gamma = np.array([102, 103])\n",
    "D = np.array([1/102, 1/103])"
   ]
  },
  {
   "cell_type": "markdown",
   "id": "8f48e9d1-4cb1-4267-9ccd-6f76716787e1",
   "metadata": {},
   "source": [
    "Initialize alpha value based on guessed D values"
   ]
  },
  {
   "cell_type": "code",
   "execution_count": 30,
   "id": "ed0e8702-a31c-44cd-9380-dc864cd4ad0b",
   "metadata": {},
   "outputs": [],
   "source": [
    "alpha_initial = n*(1-lam)/d*np.prod(D**(1/d))*sum((lam*D + (1-lam)*np.prod(D**(1/d)))**(-1) - Gamma)\n",
    "## X[0] is alpha and X[i] is D[i] (i is from 1 to d)\n",
    "X = np.append(alpha_initial, D)"
   ]
  },
  {
   "cell_type": "code",
   "execution_count": 31,
   "id": "46099da8-8782-4e3c-a9d8-87d78f0e6fd2",
   "metadata": {},
   "outputs": [
    {
     "data": {
      "text/plain": [
       "array([0.09901475, 0.09853293])"
      ]
     },
     "execution_count": 31,
     "metadata": {},
     "output_type": "execute_result"
    }
   ],
   "source": [
    "X[1:]**(1/d)"
   ]
  },
  {
   "cell_type": "code",
   "execution_count": 32,
   "id": "023055a7-7f48-49a8-ae95-8a44cf55d1e0",
   "metadata": {},
   "outputs": [],
   "source": [
    "def test_2d(X):\n",
    "    return np.array([\n",
    "        ((1-lam)*sum((lam*X[1:] + (1-lam)*np.prod(X[1:]**(1/d)))**(-1) - Gamma) - X[0]*d/n*np.prod(X[1:]**(-1/d)))**2,\n",
    "        (lam * ((lam*X[1] + (1-lam)*np.prod(X[1:]**(1/d)))**(-1) - Gamma[0]) - 2*X[0]/n/X[1])**2,\n",
    "        (lam * ((lam*X[2] + (1-lam)*np.prod(X[1:]**(1/d)))**(-1) - Gamma[1]) - 2*X[0]/n/X[2])**2,\n",
    "    ])"
   ]
  },
  {
   "cell_type": "code",
   "execution_count": 33,
   "id": "2e84bae2-a7bc-454d-a683-10186a0158e5",
   "metadata": {},
   "outputs": [],
   "source": [
    "scipy.optimize.least_squares(test_2d, X)\n",
    "sol = scipy.optimize.least_squares(test_2d, X)\n",
    "solD = sol['x']"
   ]
  },
  {
   "cell_type": "markdown",
   "id": "93db2039-5b9d-4cd2-be38-ec635c70ee4f",
   "metadata": {},
   "source": [
    "Result:"
   ]
  },
  {
   "cell_type": "code",
   "execution_count": 46,
   "id": "17f9f8d8-8b28-42f0-afe0-0b2516a6e000",
   "metadata": {},
   "outputs": [],
   "source": [
    "def result_summary(Gamma, solD):\n",
    "    print(\"* * * * * | lam = \" + str(lam) + \" | * * * * *\")\n",
    "    print('alpha: ' + str(solD[0]))\n",
    "    print('Gamma: ' +str(Gamma))\n",
    "    print('D: ' + str(solD[1:]))\n",
    "    print('inverse D: ' + str(1/solD[1:]))\n",
    "    print('obj: ' +str(test_2d(solD)))\n",
    "    print(\"s: \" + str(np.prod(solD[1:])**(1/d)))\n",
    "    print(\"* * * * * * * * * * * * * * * * * \" + \"\\n\")\n",
    "    "
   ]
  },
  {
   "cell_type": "code",
   "execution_count": 47,
   "id": "283a708e-2ac8-4d03-b0cc-3d53d4a186d9",
   "metadata": {},
   "outputs": [
    {
     "name": "stdout",
     "output_type": "stream",
     "text": [
      "* * * * * | lam = 1 | * * * * *\n",
      "alpha: 0.0\n",
      "Gamma: [99 61]\n",
      "D: [0.00980392 0.00970874]\n",
      "inverse D: [102. 103.]\n",
      "obj: [   0.    9. 1764.]\n",
      "s: 0.009756213637973549\n",
      "* * * * * * * * * * * * * * * * * \n",
      "\n"
     ]
    }
   ],
   "source": [
    "## obj is the objective function Gauss-Newton tries to minimize\n",
    "result_summary(Gamma, solD)"
   ]
  },
  {
   "cell_type": "markdown",
   "id": "9d273777-8a14-493a-a083-29c1da7c5612",
   "metadata": {},
   "source": [
    "More tests:"
   ]
  },
  {
   "cell_type": "code",
   "execution_count": 48,
   "id": "420c03e3-0fd3-4fb8-8f47-0879e94baf63",
   "metadata": {},
   "outputs": [],
   "source": [
    "def _2d_(n, lam, Gamma, D, f):\n",
    "    d = 2\n",
    "    alpha_initial = n*(1-lam)/d*np.prod(D**(1/d))*sum((lam*D + (1-lam)*np.prod(D**(1/d)))**(-1) - Gamma)\n",
    "    X = np.append(alpha_initial, D)\n",
    "    sol = f(test_2d, X)\n",
    "    if f == scipy.optimize.least_squares:\n",
    "        solD = sol['x']\n",
    "    else:\n",
    "        solD = sol    \n",
    "    result_summary(Gamma, solD)"
   ]
  },
  {
   "cell_type": "code",
   "execution_count": 49,
   "id": "4682ef9c-66aa-4020-a6b8-0633e842e8b8",
   "metadata": {},
   "outputs": [
    {
     "name": "stdout",
     "output_type": "stream",
     "text": [
      "* * * * * | lam = 0 | * * * * *\n",
      "alpha: -1.0298009496113934e-05\n",
      "Gamma: [79 67]\n",
      "D: [0.01261541 0.01487488]\n",
      "inverse D: [79.26816081 67.22742758]\n",
      "obj: [3.56992064e-09 2.66541066e-10 1.91716528e-10]\n",
      "s: 0.01369863715368149\n",
      "* * * * * * * * * * * * * * * * * \n",
      "\n",
      "* * * * * | lam = 0.2 | * * * * *\n",
      "alpha: 1.1418272439497504e-05\n",
      "Gamma: [79 67]\n",
      "D: [0.00903319 0.0203688 ]\n",
      "inverse D: [110.70286061  49.09470588]\n",
      "obj: [9.88517060e-09 4.44438871e-10 1.86442930e-10]\n",
      "s: 0.013564483045046547\n",
      "* * * * * * * * * * * * * * * * * \n",
      "\n",
      "* * * * * | lam = 0.4 | * * * * *\n",
      "alpha: -2.1225402507914126e-05\n",
      "Gamma: [79 67]\n",
      "D: [0.01113227 0.0168    ]\n",
      "inverse D: [89.82895444 59.52381712]\n",
      "obj: [7.21554745e-09 3.91579571e-09 2.36721238e-09]\n",
      "s: 0.013675601612981921\n",
      "* * * * * * * * * * * * * * * * * \n",
      "\n",
      "* * * * * | lam = 0.6 | * * * * *\n",
      "alpha: -5.068814330360337e-05\n",
      "Gamma: [79 67]\n",
      "D: [0.01195438 0.01573289]\n",
      "inverse D: [83.65136735 63.56109677]\n",
      "obj: [2.89221143e-09 6.68314942e-09 1.55539062e-09]\n",
      "s: 0.013714114990541496\n",
      "* * * * * * * * * * * * * * * * * \n",
      "\n",
      "* * * * * | lam = 0.8 | * * * * *\n",
      "alpha: -4.482244511371996e-05\n",
      "Gamma: [79 67]\n",
      "D: [0.01238944 0.01522337]\n",
      "inverse D: [80.71387426 65.68847253]\n",
      "obj: [7.83124546e-11 4.32827214e-09 8.21902475e-10]\n",
      "s: 0.013733502832414451\n",
      "* * * * * * * * * * * * * * * * * \n",
      "\n",
      "* * * * * | lam = 1 | * * * * *\n",
      "alpha: 0.0\n",
      "Gamma: [79 67]\n",
      "D: [0.01265823 0.01492537]\n",
      "inverse D: [79. 67.]\n",
      "obj: [0. 0. 0.]\n",
      "s: 0.013745136370813411\n",
      "* * * * * * * * * * * * * * * * * \n",
      "\n"
     ]
    }
   ],
   "source": [
    "Gamma = np.random.randint(low=50, high=100, size=2)\n",
    "D = 1/Gamma\n",
    "for lam in [0, 0.2, 0.4, 0.6, 0.8, 1]:\n",
    "    _2d_(n, lam, Gamma, D, scipy.optimize.least_squares)"
   ]
  },
  {
   "cell_type": "markdown",
   "id": "bc791d2a-a0db-415d-a5b3-140ba3de7469",
   "metadata": {},
   "source": [
    "using <b>fsolve<b>:"
   ]
  },
  {
   "cell_type": "code",
   "execution_count": 16,
   "id": "e7ab22c1-dae0-4ee9-a221-a58a97ff1e1f",
   "metadata": {
    "tags": []
   },
   "outputs": [
    {
     "name": "stdout",
     "output_type": "stream",
     "text": [
      "* * * * * | lam = 0 | * * * * *\n",
      "alpha: 1.029443642017731e-11\n",
      "Gamma: [57 66]\n",
      "D: [0.01749683 0.0151109 ]\n",
      "inverse D: [57.15320792 66.17738772]\n",
      "obj: [1.04243595e-21 1.38467027e-22 1.85645481e-22]\n",
      "s: 0.016303866268150616\n",
      "* * * * * * * * * * * * * * * * * \n",
      "\n",
      "* * * * * | lam = 0.2 | * * * * *\n",
      "alpha: 1.3169710833861707e-09\n",
      "Gamma: [57 66]\n",
      "D: [0.0231869  0.01122517]\n",
      "inverse D: [43.12780794 89.08548206]\n",
      "obj: [9.62577818e-18 7.08046091e-20 6.57778309e-18]\n",
      "s: 0.016303866268150616\n",
      "* * * * * * * * * * * * * * * * * \n",
      "\n",
      "* * * * * | lam = 0.4 | * * * * *\n",
      "alpha: 9.26111418661642e-10\n",
      "Gamma: [57 66]\n",
      "D: [0.01950195 0.01352109]\n",
      "inverse D: [51.27691475 73.95852283]\n",
      "obj: [7.73596282e-19 5.88354040e-19 4.23572197e-20]\n",
      "s: 0.016303866268150616\n",
      "* * * * * * * * * * * * * * * * * \n",
      "\n",
      "* * * * * | lam = 0.6 | * * * * *\n",
      "alpha: 7.535609288529538e-08\n",
      "Gamma: [57 66]\n",
      "D: [0.01838997 0.01440273]\n",
      "inverse D: [54.37747101 69.43129072]\n",
      "obj: [1.04226991e-15 1.07638628e-15 4.00752747e-15]\n",
      "s: 0.016303866268150616\n",
      "* * * * * * * * * * * * * * * * * \n",
      "\n",
      "* * * * * | lam = 0.8 | * * * * *\n",
      "alpha: 2.2318749354243708e-09\n",
      "Gamma: [57 66]\n",
      "D: [0.0178566  0.01486617]\n",
      "inverse D: [56.00171606 67.26684367]\n",
      "obj: [2.12256391e-18 1.25550850e-17 1.53238895e-17]\n",
      "s: 0.016303866268150616\n",
      "* * * * * * * * * * * * * * * * * \n",
      "\n",
      "* * * * * | lam = 1 | * * * * *\n",
      "alpha: 0.0\n",
      "Gamma: [57 66]\n",
      "D: [0.01754386 0.01515152]\n",
      "inverse D: [57. 66.]\n",
      "obj: [0. 0. 0.]\n",
      "s: 0.016303866268150616\n",
      "* * * * * * * * * * * * * * * * * \n",
      "\n"
     ]
    }
   ],
   "source": [
    "Gamma = np.random.randint(low=50, high=100, size=2)\n",
    "D = 1/Gamma\n",
    "for lam in [0, 0.2, 0.4, 0.6, 0.8, 1]:\n",
    "    _2d_(n, lam, Gamma, D, scipy.optimize.fsolve)"
   ]
  },
  {
   "cell_type": "markdown",
   "id": "e9ec03cc-08f5-4ef6-b1ca-759b02679e87",
   "metadata": {},
   "source": [
    "using <b>Broyden<b>: <b>(Not converging)<b>"
   ]
  },
  {
   "cell_type": "code",
   "execution_count": 17,
   "id": "c26436e9-9e8d-45c9-a810-078725e3b804",
   "metadata": {},
   "outputs": [
    {
     "name": "stderr",
     "output_type": "stream",
     "text": [
      "C:\\Users\\Ziming Huang\\AppData\\Local\\Temp\\ipykernel_14016\\2894031937.py:3: RuntimeWarning: invalid value encountered in sqrt\n",
      "  ((1-lam)*sum((lam*X[1:] + (1-lam)*np.prod(X[1:]**(1/d)))**(-1) - Gamma) - X[0]*d/n*np.prod(X[1:]**(-1/d)))**2,\n",
      "C:\\Users\\Ziming Huang\\AppData\\Local\\Temp\\ipykernel_14016\\2894031937.py:3: RuntimeWarning: invalid value encountered in power\n",
      "  ((1-lam)*sum((lam*X[1:] + (1-lam)*np.prod(X[1:]**(1/d)))**(-1) - Gamma) - X[0]*d/n*np.prod(X[1:]**(-1/d)))**2,\n",
      "C:\\Users\\Ziming Huang\\AppData\\Local\\Temp\\ipykernel_14016\\2894031937.py:4: RuntimeWarning: invalid value encountered in sqrt\n",
      "  (lam * ((lam*X[1] + (1-lam)*np.prod(X[1:]**(1/d)))**(-1) - Gamma[0]) - 2*X[0]/n/X[1])**2,\n",
      "C:\\Users\\Ziming Huang\\AppData\\Local\\Temp\\ipykernel_14016\\2894031937.py:5: RuntimeWarning: invalid value encountered in sqrt\n",
      "  (lam * ((lam*X[2] + (1-lam)*np.prod(X[1:]**(1/d)))**(-1) - Gamma[1]) - 2*X[0]/n/X[2])**2,\n",
      "C:\\Users\\Ziming Huang\\AppData\\Local\\Programs\\Python\\Python310\\lib\\site-packages\\scipy\\optimize\\_nonlin.py:911: RuntimeWarning: invalid value encountered in divide\n",
      "  d = v / vdot(df, v)\n"
     ]
    },
    {
     "ename": "NoConvergence",
     "evalue": "[-0.53941057  0.01538467  0.01250009]",
     "output_type": "error",
     "traceback": [
      "\u001b[1;31m---------------------------------------------------------------------------\u001b[0m",
      "\u001b[1;31mNoConvergence\u001b[0m                             Traceback (most recent call last)",
      "Input \u001b[1;32mIn [17]\u001b[0m, in \u001b[0;36m<cell line: 3>\u001b[1;34m()\u001b[0m\n\u001b[0;32m      2\u001b[0m D \u001b[38;5;241m=\u001b[39m \u001b[38;5;241m1\u001b[39m\u001b[38;5;241m/\u001b[39mGamma\n\u001b[0;32m      3\u001b[0m \u001b[38;5;28;01mfor\u001b[39;00m lam \u001b[38;5;129;01min\u001b[39;00m [\u001b[38;5;241m0\u001b[39m, \u001b[38;5;241m0.2\u001b[39m, \u001b[38;5;241m0.4\u001b[39m, \u001b[38;5;241m0.6\u001b[39m, \u001b[38;5;241m0.8\u001b[39m, \u001b[38;5;241m1\u001b[39m]:\n\u001b[1;32m----> 4\u001b[0m     \u001b[43m_2d_\u001b[49m\u001b[43m(\u001b[49m\u001b[43mn\u001b[49m\u001b[43m,\u001b[49m\u001b[43m \u001b[49m\u001b[43mlam\u001b[49m\u001b[43m,\u001b[49m\u001b[43m \u001b[49m\u001b[43mGamma\u001b[49m\u001b[43m,\u001b[49m\u001b[43m \u001b[49m\u001b[43mD\u001b[49m\u001b[43m,\u001b[49m\u001b[43m \u001b[49m\u001b[43mscipy\u001b[49m\u001b[38;5;241;43m.\u001b[39;49m\u001b[43moptimize\u001b[49m\u001b[38;5;241;43m.\u001b[39;49m\u001b[43mbroyden1\u001b[49m\u001b[43m)\u001b[49m\n",
      "Input \u001b[1;32mIn [13]\u001b[0m, in \u001b[0;36m_2d_\u001b[1;34m(n, lam, Gamma, D, f)\u001b[0m\n\u001b[0;32m      3\u001b[0m alpha_initial \u001b[38;5;241m=\u001b[39m n\u001b[38;5;241m*\u001b[39m(\u001b[38;5;241m1\u001b[39m\u001b[38;5;241m-\u001b[39mlam)\u001b[38;5;241m/\u001b[39md\u001b[38;5;241m*\u001b[39mnp\u001b[38;5;241m.\u001b[39mprod(D\u001b[38;5;241m*\u001b[39m\u001b[38;5;241m*\u001b[39m(\u001b[38;5;241m1\u001b[39m\u001b[38;5;241m/\u001b[39md))\u001b[38;5;241m*\u001b[39m\u001b[38;5;28msum\u001b[39m((lam\u001b[38;5;241m*\u001b[39mD \u001b[38;5;241m+\u001b[39m (\u001b[38;5;241m1\u001b[39m\u001b[38;5;241m-\u001b[39mlam)\u001b[38;5;241m*\u001b[39mnp\u001b[38;5;241m.\u001b[39mprod(D\u001b[38;5;241m*\u001b[39m\u001b[38;5;241m*\u001b[39m(\u001b[38;5;241m1\u001b[39m\u001b[38;5;241m/\u001b[39md)))\u001b[38;5;241m*\u001b[39m\u001b[38;5;241m*\u001b[39m(\u001b[38;5;241m-\u001b[39m\u001b[38;5;241m1\u001b[39m) \u001b[38;5;241m-\u001b[39m Gamma)\n\u001b[0;32m      4\u001b[0m X \u001b[38;5;241m=\u001b[39m np\u001b[38;5;241m.\u001b[39mappend(alpha_initial, D)\n\u001b[1;32m----> 5\u001b[0m sol \u001b[38;5;241m=\u001b[39m \u001b[43mf\u001b[49m\u001b[43m(\u001b[49m\u001b[43mtest_2d\u001b[49m\u001b[43m,\u001b[49m\u001b[43m \u001b[49m\u001b[43mX\u001b[49m\u001b[43m)\u001b[49m\n\u001b[0;32m      6\u001b[0m \u001b[38;5;28;01mif\u001b[39;00m f \u001b[38;5;241m==\u001b[39m scipy\u001b[38;5;241m.\u001b[39moptimize\u001b[38;5;241m.\u001b[39mleast_squares:\n\u001b[0;32m      7\u001b[0m     solD \u001b[38;5;241m=\u001b[39m sol[\u001b[38;5;124m'\u001b[39m\u001b[38;5;124mx\u001b[39m\u001b[38;5;124m'\u001b[39m]\n",
      "File \u001b[1;32m<string>:6\u001b[0m, in \u001b[0;36mbroyden1\u001b[1;34m(F, xin, iter, alpha, reduction_method, max_rank, verbose, maxiter, f_tol, f_rtol, x_tol, x_rtol, tol_norm, line_search, callback, **kw)\u001b[0m\n",
      "File \u001b[1;32m~\\AppData\\Local\\Programs\\Python\\Python310\\lib\\site-packages\\scipy\\optimize\\_nonlin.py:241\u001b[0m, in \u001b[0;36mnonlin_solve\u001b[1;34m(F, x0, jacobian, iter, verbose, maxiter, f_tol, f_rtol, x_tol, x_rtol, tol_norm, line_search, callback, full_output, raise_exception)\u001b[0m\n\u001b[0;32m    239\u001b[0m \u001b[38;5;28;01melse\u001b[39;00m:\n\u001b[0;32m    240\u001b[0m     \u001b[38;5;28;01mif\u001b[39;00m raise_exception:\n\u001b[1;32m--> 241\u001b[0m         \u001b[38;5;28;01mraise\u001b[39;00m NoConvergence(_array_like(x, x0))\n\u001b[0;32m    242\u001b[0m     \u001b[38;5;28;01melse\u001b[39;00m:\n\u001b[0;32m    243\u001b[0m         status \u001b[38;5;241m=\u001b[39m \u001b[38;5;241m2\u001b[39m\n",
      "\u001b[1;31mNoConvergence\u001b[0m: [-0.53941057  0.01538467  0.01250009]"
     ]
    }
   ],
   "source": [
    "Gamma = np.random.randint(low=50, high=100, size=2)\n",
    "D = 1/Gamma\n",
    "for lam in [0, 0.2, 0.4, 0.6, 0.8, 1]:\n",
    "    _2d_(n, lam, Gamma, D, scipy.optimize.broyden1)"
   ]
  },
  {
   "cell_type": "markdown",
   "id": "bff7bcb9-2742-4483-ab35-fbb65c4da1b4",
   "metadata": {
    "tags": []
   },
   "source": [
    "##### Special case where all elements of $\\Lambda$ are the same"
   ]
  },
  {
   "cell_type": "code",
   "execution_count": 18,
   "id": "da793fdc-8842-4a78-9977-bf45f1517243",
   "metadata": {},
   "outputs": [
    {
     "name": "stdout",
     "output_type": "stream",
     "text": [
      "* * * * * | lam = 0.5 | * * * * *\n",
      "alpha: -5.329070513233791e-15\n",
      "Gamma: [100 100]\n",
      "D: [0.01 0.01]\n",
      "inverse D: [100. 100.]\n",
      "obj: [1.26217746e-29 1.26217744e-29 1.26217744e-29]\n",
      "s: 0.01\n",
      "* * * * * * * * * * * * * * * * * \n",
      "\n"
     ]
    }
   ],
   "source": [
    "Gamma = np.array([100, 100])\n",
    "D = 1/Gamma\n",
    "for lam in [0.5]:\n",
    "    _2d_(n, lam, Gamma, D, scipy.optimize.fsolve)"
   ]
  },
  {
   "cell_type": "markdown",
   "id": "4aa13708-314e-43ab-a7e0-5287a89af6a0",
   "metadata": {},
   "source": [
    "##### Compare <b>fsolve<b>  and  <b>Gauss-Newton<b>"
   ]
  },
  {
   "cell_type": "code",
   "execution_count": 19,
   "id": "89a4cb56-0a7b-44d4-b36d-af817f485567",
   "metadata": {},
   "outputs": [
    {
     "name": "stdout",
     "output_type": "stream",
     "text": [
      "*fsolve*\n",
      "* * * * * | lam = 0.5 | * * * * *\n",
      "alpha: 7.149385317393383e-09\n",
      "Gamma: [73 76]\n",
      "D: [0.01397444 0.01289297]\n",
      "inverse D: [71.55921057 77.56164383]\n",
      "obj: [1.43949051e-16 5.75020341e-17 3.91249930e-17]\n",
      "s: 0.013425540338526368\n",
      "* * * * * * * * * * * * * * * * * \n",
      "\n",
      "*gauss-newton*\n",
      "* * * * * | lam = 0.5 | * * * * *\n",
      "alpha: -9.35878730642716e-06\n",
      "Gamma: [73 76]\n",
      "D: [0.01397438 0.01289305]\n",
      "inverse D: [71.55951326 77.56118685]\n",
      "obj: [2.29846111e-09 5.97538892e-09 1.23822840e-08]\n",
      "s: 0.013425540338526368\n",
      "* * * * * * * * * * * * * * * * * \n",
      "\n"
     ]
    }
   ],
   "source": [
    "lam = 0.5\n",
    "Gamma = np.random.randint(low=50, high=100, size=2)\n",
    "D = 1/Gamma\n",
    "print('*fsolve*'),_2d_(n, lam, Gamma, D, scipy.optimize.fsolve);\n",
    "print('*gauss-newton*'),_2d_(n, lam, Gamma, D, scipy.optimize.least_squares);"
   ]
  },
  {
   "cell_type": "markdown",
   "id": "9b859fad-4cf3-4065-9403-97ecff27e5fd",
   "metadata": {},
   "source": [
    "fsolve seems to be better than Gauss-Newton but the difference is trivial."
   ]
  },
  {
   "cell_type": "markdown",
   "id": "31290b8a-916e-4025-b3d0-45a59d73093c",
   "metadata": {},
   "source": [
    "### Dimension = 3"
   ]
  },
  {
   "cell_type": "code",
   "execution_count": 20,
   "id": "497f111a-e326-46f2-a7b2-cb8a7b71618b",
   "metadata": {},
   "outputs": [],
   "source": [
    "def test_3d(X):\n",
    "    return np.array([\n",
    "        ((1-lam)*sum((lam*X[1:] + (1-lam)*np.prod(X[1:]**(1/d)))**(-1) - Gamma) - X[0]*d/n*np.prod(X[1:]**(-1/d)))**2,\n",
    "        (lam * ((lam*X[1] + (1-lam)*np.prod(X[1:]**(1/d)))**(-1) - Gamma[0]) - 2*X[0]/n/X[1])**2,\n",
    "        (lam * ((lam*X[2] + (1-lam)*np.prod(X[1:]**(1/d)))**(-1) - Gamma[1]) - 2*X[0]/n/X[2])**2,\n",
    "        (lam * ((lam*X[3] + (1-lam)*np.prod(X[1:]**(1/d)))**(-1) - Gamma[2]) - 2*X[0]/n/X[3])**2\n",
    "    ])"
   ]
  },
  {
   "cell_type": "code",
   "execution_count": 21,
   "id": "deed2f96-8c09-4e8b-bef0-148389209a8e",
   "metadata": {},
   "outputs": [],
   "source": [
    "def _3d_(n, lam, Gamma, D, f):\n",
    "    alpha_initial = n*(1-lam)/d*np.prod(D**(1/d))*sum((lam*D + (1-lam)*np.prod(D**(1/d)))**(-1) - Gamma)\n",
    "    X = np.append(alpha_initial, D)\n",
    "    sol = f(test_3d, X)\n",
    "    if f == scipy.optimize.least_squares:\n",
    "        solD = sol['x']\n",
    "    else:\n",
    "        solD = sol    \n",
    "    result_summary(Gamma, solD)"
   ]
  },
  {
   "cell_type": "markdown",
   "id": "0590e3a8-c4f4-488e-a04c-e788994ccd7a",
   "metadata": {},
   "source": [
    "Case: <b>$\\lambda = 1$<b>"
   ]
  },
  {
   "cell_type": "code",
   "execution_count": 22,
   "id": "1253d01c-3a92-4f5c-8e9c-e3ef148cb375",
   "metadata": {},
   "outputs": [
    {
     "name": "stdout",
     "output_type": "stream",
     "text": [
      "* * * * * | lam = 1 | * * * * *\n",
      "alpha: 0.0\n",
      "Gamma: [96 83 95]\n",
      "D: [0.01041667 0.01204819 0.01052632]\n",
      "inverse D: [96. 83. 95.]\n",
      "obj: [0. 0. 0.]\n",
      "s: 0.0011493797321856895\n",
      "* * * * * * * * * * * * * * * * * \n",
      "\n"
     ]
    }
   ],
   "source": [
    "n = 100\n",
    "lam = 1\n",
    "Gamma = np.random.randint(low=50, high=100, size=3)\n",
    "D = 1/Gamma\n",
    "_3d_(n, lam, Gamma, D, scipy.optimize.least_squares)"
   ]
  },
  {
   "cell_type": "markdown",
   "id": "c2b844ba-dddb-4ffb-8a68-d09b82ee0cc8",
   "metadata": {},
   "source": [
    "Case: <b>$\\lambda = 0.9$<b>"
   ]
  },
  {
   "cell_type": "code",
   "execution_count": 23,
   "id": "9ba149cf-fb80-4e7c-9404-4380759e6140",
   "metadata": {},
   "outputs": [
    {
     "name": "stdout",
     "output_type": "stream",
     "text": [
      "* * * * * | lam = 0.9 | * * * * *\n",
      "alpha: 1.1600278635673114e-05\n",
      "Gamma: [60 64 66]\n",
      "D: [0.01826557 0.01710816 0.01658207]\n",
      "inverse D: [54.74781712 58.45162741 60.30610026]\n",
      "obj: [6.27435886e-09 2.98935397e-09 3.00293163e-09]\n",
      "s: 0.0019863803942616505\n",
      "* * * * * * * * * * * * * * * * * \n",
      "\n"
     ]
    }
   ],
   "source": [
    "n = 100\n",
    "lam = 0.9\n",
    "Gamma = np.random.randint(low=50, high=100, size=3)\n",
    "D = 1/Gamma\n",
    "_3d_(n, lam, Gamma, D, scipy.optimize.least_squares)"
   ]
  },
  {
   "cell_type": "markdown",
   "id": "8faf33bf-fed3-47b7-8313-d0e31ffe08e4",
   "metadata": {},
   "source": [
    "Case: <b>$\\lambda = 0.2$<b>"
   ]
  },
  {
   "cell_type": "code",
   "execution_count": 24,
   "id": "792035ca-88a0-44ac-8662-4ccee31f0f54",
   "metadata": {},
   "outputs": [
    {
     "name": "stdout",
     "output_type": "stream",
     "text": [
      "* * * * * | lam = 0.2 | * * * * *\n",
      "alpha: 32.600415968757105\n",
      "Gamma: [80 66 66]\n",
      "D: [0.00813219 0.00628029 0.00628029]\n",
      "inverse D: [122.96817627 159.22832572 159.22832572]\n",
      "obj: [1.22708161e-08 4.21065943e-10 4.46130979e-10]\n",
      "s: 0.0016939908920452953\n",
      "* * * * * * * * * * * * * * * * * \n",
      "\n"
     ]
    },
    {
     "name": "stderr",
     "output_type": "stream",
     "text": [
      "C:\\Users\\Ziming Huang\\AppData\\Local\\Temp\\ipykernel_14016\\1453620363.py:3: RuntimeWarning: invalid value encountered in sqrt\n",
      "  ((1-lam)*sum((lam*X[1:] + (1-lam)*np.prod(X[1:]**(1/d)))**(-1) - Gamma) - X[0]*d/n*np.prod(X[1:]**(-1/d)))**2,\n",
      "C:\\Users\\Ziming Huang\\AppData\\Local\\Temp\\ipykernel_14016\\1453620363.py:3: RuntimeWarning: invalid value encountered in power\n",
      "  ((1-lam)*sum((lam*X[1:] + (1-lam)*np.prod(X[1:]**(1/d)))**(-1) - Gamma) - X[0]*d/n*np.prod(X[1:]**(-1/d)))**2,\n",
      "C:\\Users\\Ziming Huang\\AppData\\Local\\Temp\\ipykernel_14016\\1453620363.py:4: RuntimeWarning: invalid value encountered in sqrt\n",
      "  (lam * ((lam*X[1] + (1-lam)*np.prod(X[1:]**(1/d)))**(-1) - Gamma[0]) - 2*X[0]/n/X[1])**2,\n",
      "C:\\Users\\Ziming Huang\\AppData\\Local\\Temp\\ipykernel_14016\\1453620363.py:5: RuntimeWarning: invalid value encountered in sqrt\n",
      "  (lam * ((lam*X[2] + (1-lam)*np.prod(X[1:]**(1/d)))**(-1) - Gamma[1]) - 2*X[0]/n/X[2])**2,\n",
      "C:\\Users\\Ziming Huang\\AppData\\Local\\Temp\\ipykernel_14016\\1453620363.py:6: RuntimeWarning: invalid value encountered in sqrt\n",
      "  (lam * ((lam*X[3] + (1-lam)*np.prod(X[1:]**(1/d)))**(-1) - Gamma[2]) - 2*X[0]/n/X[3])**2\n"
     ]
    }
   ],
   "source": [
    "n = 100\n",
    "lam = 0.2\n",
    "Gamma = np.random.randint(low=50, high=100, size=3)\n",
    "D = 1/Gamma\n",
    "_3d_(n, lam, Gamma, D, scipy.optimize.least_squares)"
   ]
  },
  {
   "cell_type": "markdown",
   "id": "010348a9-a184-4ff0-8f7f-919c49db015e",
   "metadata": {},
   "source": [
    "Numerical instability arises when dimension increases."
   ]
  }
 ],
 "metadata": {
  "kernelspec": {
   "display_name": "Python 3 (ipykernel)",
   "language": "python",
   "name": "python3"
  },
  "language_info": {
   "codemirror_mode": {
    "name": "ipython",
    "version": 3
   },
   "file_extension": ".py",
   "mimetype": "text/x-python",
   "name": "python",
   "nbconvert_exporter": "python",
   "pygments_lexer": "ipython3",
   "version": "3.10.5"
  }
 },
 "nbformat": 4,
 "nbformat_minor": 5
}
